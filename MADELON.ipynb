{
 "cells": [
  {
   "cell_type": "markdown",
   "metadata": {},
   "source": [
    "__Madelon Data from UCI__"
   ]
  },
  {
   "cell_type": "code",
   "execution_count": 1,
   "metadata": {},
   "outputs": [],
   "source": [
    "# Importing libraries\n",
    "\n",
    "import urllib.request as urllib2\n",
    "import numpy as np\n",
    "import time\n",
    "\n",
    "from sklearn import metrics\n",
    "from sklearn.model_selection import cross_val_score\n",
    "from sklearn.metrics import confusion_matrix\n",
    "from sklearn.discriminant_analysis import LinearDiscriminantAnalysis\n",
    "from sklearn.svm import SVC\n",
    "from sklearn.decomposition import PCA\n",
    "import matplotlib.pyplot as plt\n",
    "#from matplotlib import pyplot as plt"
   ]
  },
  {
   "cell_type": "code",
   "execution_count": 2,
   "metadata": {},
   "outputs": [],
   "source": [
    "# Importing the data set\n",
    "\n",
    "train_data_url = 'https://archive.ics.uci.edu/ml/machine-learning-databases/madelon/MADELON/madelon_train.data'\n",
    "val_data_url = 'https://archive.ics.uci.edu/ml/machine-learning-databases/madelon/MADELON/madelon_valid.data'\n",
    "train_resp_url = 'https://archive.ics.uci.edu/ml/machine-learning-databases/madelon/MADELON/madelon_train.labels'\n",
    "val_resp_url = 'https://archive.ics.uci.edu/ml/machine-learning-databases/madelon/madelon_valid.labels'\n",
    "test_data_url = 'http://archive.ics.uci.edu/ml/machine-learning-databases/madelon/MADELON/madelon_test.data'\n",
    "# This data isn't standard csv so using numpy to load it as text\n",
    "x_train = np.loadtxt(urllib2.urlopen(train_data_url))\n",
    "y_train = np.loadtxt(urllib2.urlopen(train_resp_url))\n",
    "\n",
    "x_val = np.loadtxt(urllib2.urlopen(val_data_url))\n",
    "y_val = np.loadtxt(urllib2.urlopen(val_resp_url))\n",
    "\n",
    "x_test = np.loadtxt(urllib2.urlopen(test_data_url))"
   ]
  },
  {
   "cell_type": "code",
   "execution_count": 3,
   "metadata": {},
   "outputs": [],
   "source": [
    "# Feature Scaling\n",
    "\n",
    "scl = StandardScaler()\n",
    "X_train = scl.fit_transform(x_train)\n",
    "X_val = scl.transform(x_val)\n",
    "X_test = scl.transform(x_test)"
   ]
  },
  {
   "cell_type": "code",
   "execution_count": 4,
   "metadata": {},
   "outputs": [
    {
     "name": "stderr",
     "output_type": "stream",
     "text": [
      "C:\\Users\\damga\\Anaconda1\\lib\\site-packages\\sklearn\\discriminant_analysis.py:466: ChangedBehaviorWarning: n_components cannot be larger than min(n_features, n_classes - 1). Using min(n_features, n_classes - 1) = min(500, 2 - 1) = 1 components.\n",
      "  ChangedBehaviorWarning)\n",
      "C:\\Users\\damga\\Anaconda1\\lib\\site-packages\\sklearn\\discriminant_analysis.py:472: FutureWarning: In version 0.23, setting n_components > min(n_features, n_classes - 1) will raise a ValueError. You should set n_components to None (default), or a value smaller or equal to min(n_features, n_classes - 1).\n",
      "  warnings.warn(future_msg, FutureWarning)\n",
      "C:\\Users\\damga\\Anaconda1\\lib\\site-packages\\sklearn\\discriminant_analysis.py:466: ChangedBehaviorWarning: n_components cannot be larger than min(n_features, n_classes - 1). Using min(n_features, n_classes - 1) = min(500, 2 - 1) = 1 components.\n",
      "  ChangedBehaviorWarning)\n",
      "C:\\Users\\damga\\Anaconda1\\lib\\site-packages\\sklearn\\discriminant_analysis.py:472: FutureWarning: In version 0.23, setting n_components > min(n_features, n_classes - 1) will raise a ValueError. You should set n_components to None (default), or a value smaller or equal to min(n_features, n_classes - 1).\n",
      "  warnings.warn(future_msg, FutureWarning)\n",
      "C:\\Users\\damga\\Anaconda1\\lib\\site-packages\\sklearn\\discriminant_analysis.py:466: ChangedBehaviorWarning: n_components cannot be larger than min(n_features, n_classes - 1). Using min(n_features, n_classes - 1) = min(500, 2 - 1) = 1 components.\n",
      "  ChangedBehaviorWarning)\n",
      "C:\\Users\\damga\\Anaconda1\\lib\\site-packages\\sklearn\\discriminant_analysis.py:472: FutureWarning: In version 0.23, setting n_components > min(n_features, n_classes - 1) will raise a ValueError. You should set n_components to None (default), or a value smaller or equal to min(n_features, n_classes - 1).\n",
      "  warnings.warn(future_msg, FutureWarning)\n",
      "C:\\Users\\damga\\Anaconda1\\lib\\site-packages\\sklearn\\discriminant_analysis.py:466: ChangedBehaviorWarning: n_components cannot be larger than min(n_features, n_classes - 1). Using min(n_features, n_classes - 1) = min(500, 2 - 1) = 1 components.\n",
      "  ChangedBehaviorWarning)\n",
      "C:\\Users\\damga\\Anaconda1\\lib\\site-packages\\sklearn\\discriminant_analysis.py:472: FutureWarning: In version 0.23, setting n_components > min(n_features, n_classes - 1) will raise a ValueError. You should set n_components to None (default), or a value smaller or equal to min(n_features, n_classes - 1).\n",
      "  warnings.warn(future_msg, FutureWarning)\n",
      "C:\\Users\\damga\\Anaconda1\\lib\\site-packages\\sklearn\\discriminant_analysis.py:466: ChangedBehaviorWarning: n_components cannot be larger than min(n_features, n_classes - 1). Using min(n_features, n_classes - 1) = min(500, 2 - 1) = 1 components.\n",
      "  ChangedBehaviorWarning)\n",
      "C:\\Users\\damga\\Anaconda1\\lib\\site-packages\\sklearn\\discriminant_analysis.py:472: FutureWarning: In version 0.23, setting n_components > min(n_features, n_classes - 1) will raise a ValueError. You should set n_components to None (default), or a value smaller or equal to min(n_features, n_classes - 1).\n",
      "  warnings.warn(future_msg, FutureWarning)\n",
      "C:\\Users\\damga\\Anaconda1\\lib\\site-packages\\sklearn\\discriminant_analysis.py:466: ChangedBehaviorWarning: n_components cannot be larger than min(n_features, n_classes - 1). Using min(n_features, n_classes - 1) = min(500, 2 - 1) = 1 components.\n",
      "  ChangedBehaviorWarning)\n",
      "C:\\Users\\damga\\Anaconda1\\lib\\site-packages\\sklearn\\discriminant_analysis.py:472: FutureWarning: In version 0.23, setting n_components > min(n_features, n_classes - 1) will raise a ValueError. You should set n_components to None (default), or a value smaller or equal to min(n_features, n_classes - 1).\n",
      "  warnings.warn(future_msg, FutureWarning)\n",
      "C:\\Users\\damga\\Anaconda1\\lib\\site-packages\\sklearn\\discriminant_analysis.py:466: ChangedBehaviorWarning: n_components cannot be larger than min(n_features, n_classes - 1). Using min(n_features, n_classes - 1) = min(500, 2 - 1) = 1 components.\n",
      "  ChangedBehaviorWarning)\n",
      "C:\\Users\\damga\\Anaconda1\\lib\\site-packages\\sklearn\\discriminant_analysis.py:472: FutureWarning: In version 0.23, setting n_components > min(n_features, n_classes - 1) will raise a ValueError. You should set n_components to None (default), or a value smaller or equal to min(n_features, n_classes - 1).\n",
      "  warnings.warn(future_msg, FutureWarning)\n",
      "C:\\Users\\damga\\Anaconda1\\lib\\site-packages\\sklearn\\discriminant_analysis.py:466: ChangedBehaviorWarning: n_components cannot be larger than min(n_features, n_classes - 1). Using min(n_features, n_classes - 1) = min(500, 2 - 1) = 1 components.\n",
      "  ChangedBehaviorWarning)\n",
      "C:\\Users\\damga\\Anaconda1\\lib\\site-packages\\sklearn\\discriminant_analysis.py:472: FutureWarning: In version 0.23, setting n_components > min(n_features, n_classes - 1) will raise a ValueError. You should set n_components to None (default), or a value smaller or equal to min(n_features, n_classes - 1).\n",
      "  warnings.warn(future_msg, FutureWarning)\n",
      "C:\\Users\\damga\\Anaconda1\\lib\\site-packages\\sklearn\\discriminant_analysis.py:466: ChangedBehaviorWarning: n_components cannot be larger than min(n_features, n_classes - 1). Using min(n_features, n_classes - 1) = min(500, 2 - 1) = 1 components.\n",
      "  ChangedBehaviorWarning)\n",
      "C:\\Users\\damga\\Anaconda1\\lib\\site-packages\\sklearn\\discriminant_analysis.py:472: FutureWarning: In version 0.23, setting n_components > min(n_features, n_classes - 1) will raise a ValueError. You should set n_components to None (default), or a value smaller or equal to min(n_features, n_classes - 1).\n",
      "  warnings.warn(future_msg, FutureWarning)\n",
      "C:\\Users\\damga\\Anaconda1\\lib\\site-packages\\sklearn\\discriminant_analysis.py:466: ChangedBehaviorWarning: n_components cannot be larger than min(n_features, n_classes - 1). Using min(n_features, n_classes - 1) = min(500, 2 - 1) = 1 components.\n",
      "  ChangedBehaviorWarning)\n",
      "C:\\Users\\damga\\Anaconda1\\lib\\site-packages\\sklearn\\discriminant_analysis.py:472: FutureWarning: In version 0.23, setting n_components > min(n_features, n_classes - 1) will raise a ValueError. You should set n_components to None (default), or a value smaller or equal to min(n_features, n_classes - 1).\n",
      "  warnings.warn(future_msg, FutureWarning)\n",
      "C:\\Users\\damga\\Anaconda1\\lib\\site-packages\\sklearn\\discriminant_analysis.py:466: ChangedBehaviorWarning: n_components cannot be larger than min(n_features, n_classes - 1). Using min(n_features, n_classes - 1) = min(500, 2 - 1) = 1 components.\n",
      "  ChangedBehaviorWarning)\n",
      "C:\\Users\\damga\\Anaconda1\\lib\\site-packages\\sklearn\\discriminant_analysis.py:472: FutureWarning: In version 0.23, setting n_components > min(n_features, n_classes - 1) will raise a ValueError. You should set n_components to None (default), or a value smaller or equal to min(n_features, n_classes - 1).\n",
      "  warnings.warn(future_msg, FutureWarning)\n"
     ]
    },
    {
     "name": "stdout",
     "output_type": "stream",
     "text": [
      "Runtime: 2.6155245304107666 seconds\n",
      "Confusion matrix:\n",
      "[[178 122]\n",
      " [132 168]]\n",
      "Scores: [0.56  0.5   0.545 0.57  0.475 0.49  0.6   0.555 0.545 0.57 ]\n",
      "Mean score: 0.541\n",
      "Standart deviation of scores: 0.037934153476781314\n",
      "Accuracy 0.5766666666666667\n",
      "Accuracy: 0.54 (+/- 0.08)\n"
     ]
    },
    {
     "data": {
      "image/png": "[encoded data removed]",
      "text/plain": [
       "<Figure size 432x288 with 1 Axes>"
      ]
     },
     "metadata": {
      "needs_background": "light"
     },
     "output_type": "display_data"
    }
   ],
   "source": [
    "# Performing LDA\n",
    "\n",
    "start_time = time.time()\n",
    "\n",
    "lda = LinearDiscriminantAnalysis(n_components = 2)\n",
    "X_train_lda = lda.fit_transform(X_train, y_train)\n",
    "X_test_lda = lda.transform(X_val)\n",
    "y_pred_lda = lda.predict(X_val)\n",
    "\n",
    "\n",
    "end_time = time.time()\n",
    "\n",
    "# 10-Fold Cross-validation\n",
    "\n",
    "scores = cross_val_score(lda, X_train, y_train, cv=10)\n",
    "\n",
    "# Evaluation of the model’s performance\n",
    "\n",
    "print('Runtime:', \"%s seconds\" % (time.time() - start_time))\n",
    "print('Confusion matrix:')\n",
    "print(confusion_matrix(y_val, y_pred_lda))\n",
    "print('Scores:', scores)\n",
    "print('Mean score:', scores.mean())\n",
    "print('Standart deviation of scores:', scores.std()) \n",
    "\n",
    "n, bins, patches = plt.hist(scores, 10,  density=True, facecolor='g', alpha=0.75, rwidth=0.8)\n",
    "plt.grid(True)\n",
    "plt.title('Histogram of Scores')\n",
    "plt.xlabel('Scores')\n",
    "plt.ylabel('Frequency')\n",
    "print(\"Accuracy\", metrics.accuracy_score(y_val, y_pred_lda))\n",
    "#The mean score and the 54% confidence interval of the score estimate are hence given by:\n",
    "print(\"Accuracy: %0.2f (+/- %0.2f)\" % (scores.mean(), scores.std() * 2))"
   ]
  },
  {
   "cell_type": "code",
   "execution_count": 6,
   "metadata": {},
   "outputs": [
    {
     "name": "stdout",
     "output_type": "stream",
     "text": [
      "Runtime: 321.2288143634796 seconds\n",
      "Confusion matrix:\n",
      "[[174 126]\n",
      " [126 174]]\n",
      "Scores: [0.575 0.53  0.555 0.59  0.485 0.515 0.59  0.55  0.555 0.555]\n",
      "Mean score: 0.55\n",
      "Standart deviation of scores: 0.031224989991991983\n",
      "Accuracy 0.58\n",
      "Accuracy: 0.55 (+/- 0.06)\n"
     ]
    },
    {
     "data": {
      "image/png": "[encoded data removed]",
      "text/plain": [
       "<Figure size 432x288 with 1 Axes>"
      ]
     },
     "metadata": {
      "needs_background": "light"
     },
     "output_type": "display_data"
    }
   ],
   "source": [
    "# Performing SVM linear kernel\n",
    "\n",
    "start_time = time.time()\n",
    "\n",
    "svc_linear = SVC(kernel = 'linear')   #kernel linear, rbf etc...\n",
    "svc_linear.fit(X_train, y_train)\n",
    "y_pred_svc_linear = svc_linear.predict(X_val)\n",
    "\n",
    "end_time=time.time()\n",
    "\n",
    "# 10-Fold Cross-validation\n",
    "\n",
    "scores = cross_val_score(svc_linear, X_train, y_train, cv = 10)\n",
    "\n",
    "# Evaluation of the model’s performance\n",
    "\n",
    "print('Runtime:', \"%s seconds\" % (time.time()-start_time))\n",
    "print('Confusion matrix:')\n",
    "print(confusion_matrix(y_val, y_pred_svc_linear))\n",
    "print('Scores:', scores)\n",
    "print('Mean score:', scores.mean())\n",
    "print('Standart deviation of scores:', scores.std()) \n",
    "\n",
    "n, bins, patches = plt.hist(scores, 10,  density=True, facecolor='g', alpha=0.75, rwidth=0.8)\n",
    "plt.grid(True)\n",
    "plt.title('Histogram of Scores')\n",
    "plt.xlabel('Scores')\n",
    "plt.ylabel('Frequency')\n",
    "print(\"Accuracy\", metrics.accuracy_score(y_val, y_pred_svc_linear))\n",
    "#The mean score and the * confidence interval of the score estimate are hence given by:\n",
    "print(\"Accuracy: %0.2f (+/- %0.2f)\" % (scores.mean(), scores.std() * 2))"
   ]
  },
  {
   "cell_type": "code",
   "execution_count": 7,
   "metadata": {},
   "outputs": [
    {
     "name": "stderr",
     "output_type": "stream",
     "text": [
      "C:\\Users\\damga\\Anaconda1\\lib\\site-packages\\sklearn\\svm\\base.py:193: FutureWarning: The default value of gamma will change from 'auto' to 'scale' in version 0.22 to account better for unscaled features. Set gamma explicitly to 'auto' or 'scale' to avoid this warning.\n",
      "  \"avoid this warning.\", FutureWarning)\n",
      "C:\\Users\\damga\\Anaconda1\\lib\\site-packages\\sklearn\\svm\\base.py:193: FutureWarning: The default value of gamma will change from 'auto' to 'scale' in version 0.22 to account better for unscaled features. Set gamma explicitly to 'auto' or 'scale' to avoid this warning.\n",
      "  \"avoid this warning.\", FutureWarning)\n",
      "C:\\Users\\damga\\Anaconda1\\lib\\site-packages\\sklearn\\svm\\base.py:193: FutureWarning: The default value of gamma will change from 'auto' to 'scale' in version 0.22 to account better for unscaled features. Set gamma explicitly to 'auto' or 'scale' to avoid this warning.\n",
      "  \"avoid this warning.\", FutureWarning)\n",
      "C:\\Users\\damga\\Anaconda1\\lib\\site-packages\\sklearn\\svm\\base.py:193: FutureWarning: The default value of gamma will change from 'auto' to 'scale' in version 0.22 to account better for unscaled features. Set gamma explicitly to 'auto' or 'scale' to avoid this warning.\n",
      "  \"avoid this warning.\", FutureWarning)\n",
      "C:\\Users\\damga\\Anaconda1\\lib\\site-packages\\sklearn\\svm\\base.py:193: FutureWarning: The default value of gamma will change from 'auto' to 'scale' in version 0.22 to account better for unscaled features. Set gamma explicitly to 'auto' or 'scale' to avoid this warning.\n",
      "  \"avoid this warning.\", FutureWarning)\n",
      "C:\\Users\\damga\\Anaconda1\\lib\\site-packages\\sklearn\\svm\\base.py:193: FutureWarning: The default value of gamma will change from 'auto' to 'scale' in version 0.22 to account better for unscaled features. Set gamma explicitly to 'auto' or 'scale' to avoid this warning.\n",
      "  \"avoid this warning.\", FutureWarning)\n",
      "C:\\Users\\damga\\Anaconda1\\lib\\site-packages\\sklearn\\svm\\base.py:193: FutureWarning: The default value of gamma will change from 'auto' to 'scale' in version 0.22 to account better for unscaled features. Set gamma explicitly to 'auto' or 'scale' to avoid this warning.\n",
      "  \"avoid this warning.\", FutureWarning)\n",
      "C:\\Users\\damga\\Anaconda1\\lib\\site-packages\\sklearn\\svm\\base.py:193: FutureWarning: The default value of gamma will change from 'auto' to 'scale' in version 0.22 to account better for unscaled features. Set gamma explicitly to 'auto' or 'scale' to avoid this warning.\n",
      "  \"avoid this warning.\", FutureWarning)\n",
      "C:\\Users\\damga\\Anaconda1\\lib\\site-packages\\sklearn\\svm\\base.py:193: FutureWarning: The default value of gamma will change from 'auto' to 'scale' in version 0.22 to account better for unscaled features. Set gamma explicitly to 'auto' or 'scale' to avoid this warning.\n",
      "  \"avoid this warning.\", FutureWarning)\n",
      "C:\\Users\\damga\\Anaconda1\\lib\\site-packages\\sklearn\\svm\\base.py:193: FutureWarning: The default value of gamma will change from 'auto' to 'scale' in version 0.22 to account better for unscaled features. Set gamma explicitly to 'auto' or 'scale' to avoid this warning.\n",
      "  \"avoid this warning.\", FutureWarning)\n"
     ]
    },
    {
     "name": "stdout",
     "output_type": "stream",
     "text": [
      "Runtime: 26.978849411010742 seconds\n",
      "Confusion matrix:\n",
      "[[180 120]\n",
      " [131 169]]\n",
      "Scores: [0.58  0.55  0.615 0.62  0.55  0.56  0.65  0.59  0.58  0.59 ]\n",
      "Mean score: 0.5885\n",
      "Standart deviation of scores: 0.030663496212923917\n",
      "Accuracy 0.5816666666666667\n",
      "Accuracy: 0.59 (+/- 0.06)\n"
     ]
    },
    {
     "data": {
      "image/png": "[encoded data removed]",
      "text/plain": [
       "<Figure size 432x288 with 1 Axes>"
      ]
     },
     "metadata": {
      "needs_background": "light"
     },
     "output_type": "display_data"
    }
   ],
   "source": [
    "#Performing SVM RBF kernel\n",
    "\n",
    "start_time = time.time()\n",
    "\n",
    "svc_rbf = SVC(kernel = 'linear')   #kernel linear, rbf vs...\n",
    "svc_rbf.fit(X_train, y_train)\n",
    "y_pred_svc_rbf = svc_rbf.predict(X_val)\n",
    "\n",
    "end_time = time.time()\n",
    "\n",
    "# 10-Fold Cross-validation\n",
    "\n",
    "scores = cross_val_score(svc_rbf, X_train, y_train, cv=10)\n",
    "\n",
    "# Evaluation of the model’s performance\n",
    "\n",
    "print('Runtime:', \"%s seconds\" % (time.time() - start_time))\n",
    "print('Confusion matrix:')\n",
    "print(confusion_matrix(y_val, y_pred_svc_rbf))\n",
    "print('Scores:', scores)\n",
    "print('Mean score:',scores.mean())\n",
    "print('Standart deviation of scores:', scores.std()) \n",
    "\n",
    "n, bins, patches = plt.hist(scores, 10,  density=True, facecolor='g', alpha=0.75, rwidth=0.8)\n",
    "plt.grid(True)\n",
    "plt.title('Histogram of Scores')\n",
    "plt.xlabel('Scores')\n",
    "plt.ylabel('Frequency')\n",
    "print(\"Accuracy\", metrics.accuracy_score(y_val, y_pred_svc_rbf))\n",
    "#The mean score and the * confidence interval of the score estimate are hence given by:\n",
    "print(\"Accuracy: %0.2f (+/- %0.2f)\" % (scores.mean(), scores.std() * 2))"
   ]
  },
  {
   "cell_type": "code",
   "execution_count": 9,
   "metadata": {},
   "outputs": [
    {
     "name": "stderr",
     "output_type": "stream",
     "text": [
      "C:\\Users\\damga\\Anaconda1\\lib\\site-packages\\sklearn\\svm\\base.py:193: FutureWarning: The default value of gamma will change from 'auto' to 'scale' in version 0.22 to account better for unscaled features. Set gamma explicitly to 'auto' or 'scale' to avoid this warning.\n",
      "  \"avoid this warning.\", FutureWarning)\n",
      "C:\\Users\\damga\\Anaconda1\\lib\\site-packages\\sklearn\\svm\\base.py:193: FutureWarning: The default value of gamma will change from 'auto' to 'scale' in version 0.22 to account better for unscaled features. Set gamma explicitly to 'auto' or 'scale' to avoid this warning.\n",
      "  \"avoid this warning.\", FutureWarning)\n",
      "C:\\Users\\damga\\Anaconda1\\lib\\site-packages\\sklearn\\svm\\base.py:193: FutureWarning: The default value of gamma will change from 'auto' to 'scale' in version 0.22 to account better for unscaled features. Set gamma explicitly to 'auto' or 'scale' to avoid this warning.\n",
      "  \"avoid this warning.\", FutureWarning)\n",
      "C:\\Users\\damga\\Anaconda1\\lib\\site-packages\\sklearn\\svm\\base.py:193: FutureWarning: The default value of gamma will change from 'auto' to 'scale' in version 0.22 to account better for unscaled features. Set gamma explicitly to 'auto' or 'scale' to avoid this warning.\n",
      "  \"avoid this warning.\", FutureWarning)\n",
      "C:\\Users\\damga\\Anaconda1\\lib\\site-packages\\sklearn\\svm\\base.py:193: FutureWarning: The default value of gamma will change from 'auto' to 'scale' in version 0.22 to account better for unscaled features. Set gamma explicitly to 'auto' or 'scale' to avoid this warning.\n",
      "  \"avoid this warning.\", FutureWarning)\n",
      "C:\\Users\\damga\\Anaconda1\\lib\\site-packages\\sklearn\\svm\\base.py:193: FutureWarning: The default value of gamma will change from 'auto' to 'scale' in version 0.22 to account better for unscaled features. Set gamma explicitly to 'auto' or 'scale' to avoid this warning.\n",
      "  \"avoid this warning.\", FutureWarning)\n",
      "C:\\Users\\damga\\Anaconda1\\lib\\site-packages\\sklearn\\svm\\base.py:193: FutureWarning: The default value of gamma will change from 'auto' to 'scale' in version 0.22 to account better for unscaled features. Set gamma explicitly to 'auto' or 'scale' to avoid this warning.\n",
      "  \"avoid this warning.\", FutureWarning)\n",
      "C:\\Users\\damga\\Anaconda1\\lib\\site-packages\\sklearn\\svm\\base.py:193: FutureWarning: The default value of gamma will change from 'auto' to 'scale' in version 0.22 to account better for unscaled features. Set gamma explicitly to 'auto' or 'scale' to avoid this warning.\n",
      "  \"avoid this warning.\", FutureWarning)\n",
      "C:\\Users\\damga\\Anaconda1\\lib\\site-packages\\sklearn\\svm\\base.py:193: FutureWarning: The default value of gamma will change from 'auto' to 'scale' in version 0.22 to account better for unscaled features. Set gamma explicitly to 'auto' or 'scale' to avoid this warning.\n",
      "  \"avoid this warning.\", FutureWarning)\n",
      "C:\\Users\\damga\\Anaconda1\\lib\\site-packages\\sklearn\\svm\\base.py:193: FutureWarning: The default value of gamma will change from 'auto' to 'scale' in version 0.22 to account better for unscaled features. Set gamma explicitly to 'auto' or 'scale' to avoid this warning.\n",
      "  \"avoid this warning.\", FutureWarning)\n",
      "C:\\Users\\damga\\Anaconda1\\lib\\site-packages\\sklearn\\svm\\base.py:193: FutureWarning: The default value of gamma will change from 'auto' to 'scale' in version 0.22 to account better for unscaled features. Set gamma explicitly to 'auto' or 'scale' to avoid this warning.\n",
      "  \"avoid this warning.\", FutureWarning)\n"
     ]
    },
    {
     "name": "stdout",
     "output_type": "stream",
     "text": [
      "Runtime: 22.45540499687195 seconds\n",
      "Confusion matrix:\n",
      "[[254  46]\n",
      " [147 153]]\n",
      "Scores: [0.58  0.55  0.615 0.62  0.55  0.56  0.65  0.59  0.58  0.59 ]\n",
      "Mean score: 0.5885\n",
      "Standart deviation of scores: 0.030663496212923917\n",
      "Accuracy 0.6783333333333333\n",
      "Accuracy: 0.59 (+/- 0.06)\n"
     ]
    },
    {
     "data": {
      "image/png": "[encoded data removed]",
      "text/plain": [
       "<Figure size 432x288 with 1 Axes>"
      ]
     },
     "metadata": {
      "needs_background": "light"
     },
     "output_type": "display_data"
    }
   ],
   "source": [
    "# Performing SVM after applying PCA \n",
    "\n",
    "start_time = time.time()\n",
    "\n",
    "pca = PCA(n_components = 2, svd_solver = 'randomized',  whiten = True).fit(X_train)\n",
    "X_train_pca = pca.transform(X_train)\n",
    "X_val_pca = pca.transform(X_val)\n",
    "svc_rbf_pca = SVC(kernel='rbf')   #kernel linear, rbf vs...\n",
    "svc_rbf_pca.fit(X_train_pca, y_train)\n",
    "y_pred_svc_rbf_pca = svc_rbf_pca.predict(X_val_pca)\n",
    "\n",
    "end_time = time.time()\n",
    "\n",
    "# 10-Fold Cross-validation\n",
    "\n",
    "scores = cross_val_score(svc_rbf_pca, X_train, y_train, cv=10)\n",
    "\n",
    "# Evaluation of the model’s performance\n",
    "\n",
    "print('Runtime:', \"%s seconds\" % (time.time() - start_time))\n",
    "print('Confusion matrix:')\n",
    "print(confusion_matrix(y_val, y_pred_svc_rbf_pca))\n",
    "print('Scores:', scores)\n",
    "print('Mean score:',scores.mean())\n",
    "print('Standart deviation of scores:', scores.std()) \n",
    "\n",
    "n, bins, patches = plt.hist(scores, 10,  density=True, facecolor='g', alpha=0.75, rwidth=0.8)\n",
    "plt.grid(True)\n",
    "plt.title('Histogram of Scores')\n",
    "plt.xlabel('Scores')\n",
    "plt.ylabel('Frequency')\n",
    "print(\"Accuracy\", metrics.accuracy_score(y_val, y_pred_svc_rbf_pca))\n",
    "#The mean score and the * confidence interval of the score estimate are hence given by:\n",
    "print(\"Accuracy: %0.2f (+/- %0.2f)\" % (scores.mean(), scores.std() * 2))"
   ]
  },
  {
   "cell_type": "code",
   "execution_count": null,
   "metadata": {},
   "outputs": [],
   "source": []
  }
 ],
 "metadata": {
  "kernelspec": {
   "display_name": "Python 3",
   "language": "python",
   "name": "python3"
  },
  "language_info": {
   "codemirror_mode": {
    "name": "ipython",
    "version": 3
   },
   "file_extension": ".py",
   "mimetype": "text/x-python",
   "name": "python",
   "nbconvert_exporter": "python",
   "pygments_lexer": "ipython3",
   "version": "3.7.3"
  }
 },
 "nbformat": 4,
 "nbformat_minor": 2
}
